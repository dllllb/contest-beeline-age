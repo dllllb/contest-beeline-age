{
  "cells": [
    {
      "cell_type": "code",
      "source": [
        "import pandas as pd\n",
        "stats = pd.read_json('experiments.json').sort_values('accuracy-mean')\n",
        "stats.T[stats.nunique() > 1]"
      ],
      "outputs": [
        {
          "output_type": "execute_result",
          "execution_count": 14,
          "data": {
            "text/html": [
              "<div>\n",
              "<style scoped>\n",
              "    .dataframe tbody tr th:only-of-type {\n",
              "        vertical-align: middle;\n",
              "    }\n",
              "\n",
              "    .dataframe tbody tr th {\n",
              "        vertical-align: top;\n",
              "    }\n",
              "\n",
              "    .dataframe thead th {\n",
              "        text-align: right;\n",
              "    }\n",
              "</style>\n",
              "<table border=\"1\" class=\"dataframe\">\n",
              "  <thead>\n",
              "    <tr style=\"text-align: right;\">\n",
              "      <th></th>\n",
              "      <th>3</th>\n",
              "      <th>4</th>\n",
              "      <th>1</th>\n",
              "      <th>0</th>\n",
              "      <th>2</th>\n",
              "    </tr>\n",
              "  </thead>\n",
              "  <tbody>\n",
              "    <tr>\n",
              "      <th>accuracy-mean</th>\n",
              "      <td>0.740719</td>\n",
              "      <td>0.74088</td>\n",
              "      <td>0.751939</td>\n",
              "      <td>0.753299</td>\n",
              "      <td>0.7539</td>\n",
              "    </tr>\n",
              "    <tr>\n",
              "      <th>accuracy-std</th>\n",
              "      <td>0.00667209</td>\n",
              "      <td>0.00574096</td>\n",
              "      <td>0.00569866</td>\n",
              "      <td>0.00461123</td>\n",
              "      <td>0.00426062</td>\n",
              "    </tr>\n",
              "    <tr>\n",
              "      <th>category_encoding</th>\n",
              "      <td>target_share</td>\n",
              "      <td>empytical_bayes</td>\n",
              "      <td>count</td>\n",
              "      <td>onehot</td>\n",
              "      <td>target_share_hkz</td>\n",
              "    </tr>\n",
              "  </tbody>\n",
              "</table>\n",
              "</div>"
            ],
            "text/plain": [
              "                              3                4           1           0  \\\n",
              "accuracy-mean          0.740719          0.74088    0.751939    0.753299   \n",
              "accuracy-std         0.00667209       0.00574096  0.00569866  0.00461123   \n",
              "category_encoding  target_share  empytical_bayes       count      onehot   \n",
              "\n",
              "                                  2  \n",
              "accuracy-mean                0.7539  \n",
              "accuracy-std             0.00426062  \n",
              "category_encoding  target_share_hkz  "
            ]
          },
          "metadata": {}
        }
      ],
      "execution_count": 14,
      "metadata": {
        "collapsed": true
      }
    },
    {
      "cell_type": "code",
      "source": [],
      "outputs": [],
      "execution_count": null,
      "metadata": {}
    }
  ],
  "metadata": {
    "kernelspec": {
      "name": "python3",
      "language": "python",
      "display_name": "Python 3"
    },
    "language_info": {
      "name": "python",
      "version": "3.6.7",
      "mimetype": "text/x-python",
      "codemirror_mode": {
        "name": "ipython",
        "version": 3
      },
      "pygments_lexer": "ipython3",
      "nbconvert_exporter": "python",
      "file_extension": ".py"
    },
    "kernel_info": {
      "name": "python3"
    },
    "nteract": {
      "version": "0.14.5"
    }
  },
  "nbformat": 4,
  "nbformat_minor": 2
}