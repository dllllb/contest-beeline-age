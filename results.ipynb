{
 "cells": [
  {
   "cell_type": "markdown",
   "metadata": {},
   "source": [
    "# Links\n",
    "\n",
    "- http://special.habrahabr.ru/beeline/\n",
    "\n",
    "# Discussions\n",
    "\n",
    "- Как я победил в конкурсе BigData от Beeline, @nurumaik, habrahabr.ru"
   ]
  },
  {
   "cell_type": "code",
   "execution_count": 1,
   "metadata": {
    "collapsed": true
   },
   "outputs": [],
   "source": [
    "import pandas as pd\n",
    "\n",
    "%load_ext autoreload\n",
    "%autoreload 2\n",
    "\n",
    "import pipeline"
   ]
  },
  {
   "cell_type": "code",
   "execution_count": null,
   "metadata": {},
   "outputs": [],
   "source": [
    "pipeline.test_validate()"
   ]
  },
  {
   "cell_type": "code",
   "execution_count": 5,
   "metadata": {
    "collapsed": true
   },
   "outputs": [
    {
     "data": {
      "text/html": [
       "<div>\n",
       "<style scoped>\n",
       "    .dataframe tbody tr th:only-of-type {\n",
       "        vertical-align: middle;\n",
       "    }\n",
       "\n",
       "    .dataframe tbody tr th {\n",
       "        vertical-align: top;\n",
       "    }\n",
       "\n",
       "    .dataframe thead th {\n",
       "        text-align: right;\n",
       "    }\n",
       "</style>\n",
       "<table border=\"1\" class=\"dataframe\">\n",
       "  <thead>\n",
       "    <tr style=\"text-align: right;\">\n",
       "      <th></th>\n",
       "      <th>3</th>\n",
       "      <th>1</th>\n",
       "      <th>0</th>\n",
       "      <th>4</th>\n",
       "      <th>2</th>\n",
       "    </tr>\n",
       "  </thead>\n",
       "  <tbody>\n",
       "    <tr>\n",
       "      <th>ROC-AUC-mean</th>\n",
       "      <td>0.740719</td>\n",
       "      <td>0.751939</td>\n",
       "      <td>0.753299</td>\n",
       "      <td>0.753339</td>\n",
       "      <td>0.7539</td>\n",
       "    </tr>\n",
       "    <tr>\n",
       "      <th>ROC-AUC-std</th>\n",
       "      <td>0.00667209</td>\n",
       "      <td>0.00569866</td>\n",
       "      <td>0.00461123</td>\n",
       "      <td>0.00511432</td>\n",
       "      <td>0.00426062</td>\n",
       "    </tr>\n",
       "    <tr>\n",
       "      <th>category_encoding</th>\n",
       "      <td>target_share</td>\n",
       "      <td>count</td>\n",
       "      <td>onehot</td>\n",
       "      <td>empytical_bayes</td>\n",
       "      <td>target_share_hkz</td>\n",
       "    </tr>\n",
       "  </tbody>\n",
       "</table>\n",
       "</div>"
      ],
      "text/plain": [
       "                              3           1           0                4  \\\n",
       "ROC-AUC-mean           0.740719    0.751939    0.753299         0.753339   \n",
       "ROC-AUC-std          0.00667209  0.00569866  0.00461123       0.00511432   \n",
       "category_encoding  target_share       count      onehot  empytical_bayes   \n",
       "\n",
       "                                  2  \n",
       "ROC-AUC-mean                 0.7539  \n",
       "ROC-AUC-std              0.00426062  \n",
       "category_encoding  target_share_hkz  "
      ]
     },
     "execution_count": 5,
     "metadata": {},
     "output_type": "execute_result"
    }
   ],
   "source": [
    "stats = pd.read_json('experiments.json').sort_values('ROC-AUC-mean')\n",
    "stats.T[stats.nunique() > 1]"
   ]
  },
  {
   "cell_type": "code",
   "execution_count": null,
   "metadata": {},
   "outputs": [],
   "source": []
  }
 ],
 "metadata": {
  "kernelspec": {
   "display_name": "Python 3",
   "language": "python",
   "name": "python3"
  },
  "language_info": {
   "codemirror_mode": {
    "name": "ipython",
    "version": 3
   },
   "file_extension": ".py",
   "mimetype": "text/x-python",
   "name": "python",
   "nbconvert_exporter": "python",
   "pygments_lexer": "ipython3",
   "version": "3.6.4"
  }
 },
 "nbformat": 4,
 "nbformat_minor": 2
}
