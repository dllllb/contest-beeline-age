{
 "cells": [
  {
   "cell_type": "markdown",
   "metadata": {},
   "source": [
    "# Links\n",
    "\n",
    "- http://special.habrahabr.ru/beeline/\n",
    "\n",
    "# Discussions\n",
    "\n",
    "- [Как я победил в конкурсе BigData от Beeline, @nurumaik](https://habrahabr.ru/post/270367/)"
   ]
  },
  {
   "cell_type": "code",
   "execution_count": 1,
   "metadata": {
    "collapsed": true
   },
   "outputs": [],
   "source": [
    "import pandas as pd\n",
    "import numpy as np\n",
    "from sklearn.metrics import accuracy_score\n",
    "\n",
    "from sklearn.model_selection import cross_val_score\n",
    "from sklearn.feature_extraction import DictVectorizer\n",
    "from sklearn.pipeline import make_pipeline\n",
    "\n",
    "from sklearn.preprocessing.imputation import Imputer"
   ]
  },
  {
   "cell_type": "code",
   "execution_count": 2,
   "metadata": {
    "collapsed": true
   },
   "outputs": [],
   "source": [
    "%run ds_tools/dstools/ml/transformers.py"
   ]
  },
  {
   "cell_type": "code",
   "execution_count": 3,
   "metadata": {},
   "outputs": [
    {
     "name": "stderr",
     "output_type": "stream",
     "text": [
      "/usr/local/anaconda3/lib/python3.6/site-packages/sklearn/cross_validation.py:41: DeprecationWarning: This module was deprecated in version 0.18 in favor of the model_selection module into which all the refactored classes and functions are moved. Also note that the interface of the new CV iterators are different from that of this module. This module will be removed in 0.20.\n",
      "  \"This module will be removed in 0.20.\", DeprecationWarning)\n"
     ]
    }
   ],
   "source": [
    "%run ds_tools/dstools/ml/xgboost_tools.py"
   ]
  },
  {
   "cell_type": "code",
   "execution_count": 4,
   "metadata": {
    "collapsed": true
   },
   "outputs": [],
   "source": [
    "def cv_test(est):\n",
    "    df = pd.read_csv('train.csv.gz')\n",
    "\n",
    "    features = df.drop('y', axis=1)\n",
    "    target = df.y\n",
    "\n",
    "    if isinstance(est, tuple):\n",
    "        transf, estimator = est\n",
    "        features_t = transf.fit_transform(features, target)\n",
    "    else:\n",
    "        estimator = est\n",
    "        features_t = features\n",
    "\n",
    "    scores = cross_val_score(\n",
    "        estimator=estimator,\n",
    "        X=features_t,\n",
    "        y=target,\n",
    "        cv=8,\n",
    "        verbose=1)\n",
    "\n",
    "    print('mean: {mean}, std: {std}'.format(mean=scores.mean(), std=scores.std()))"
   ]
  },
  {
   "cell_type": "code",
   "execution_count": 6,
   "metadata": {
    "collapsed": true
   },
   "outputs": [],
   "source": [
    "def submission(est):\n",
    "    df = pd.read_csv('train.csv.gz')\n",
    "\n",
    "    features = df.drop('y', axis=1)\n",
    "    target = df.y\n",
    "\n",
    "    if isinstance(est, tuple):\n",
    "        transf, estimator = est\n",
    "        pl = make_pipeline(transf, estimator)\n",
    "    else:\n",
    "        pl = est\n",
    "\n",
    "    model = pl.fit(features, target)\n",
    "\n",
    "    df_test = pd.read_csv('test.csv.gz', index_col='ID')\n",
    "\n",
    "    y_pred = model.predict(df_test)\n",
    "\n",
    "    res_df = pd.DataFrame({'y': y_pred}, index=df_test.index)\n",
    "    res_df.to_csv('results.csv', index_label='ID')"
   ]
  },
  {
   "cell_type": "code",
   "execution_count": 7,
   "metadata": {
    "collapsed": true
   },
   "outputs": [],
   "source": [
    "def hyperopt():\n",
    "    import hyperopt as hpo\n",
    "\n",
    "    df = pd.read_csv('train.csv.gz')\n",
    "\n",
    "    features = df.drop('y', axis=1)\n",
    "    target = df.y\n",
    "\n",
    "    def hyperparam_objective(args):\n",
    "        xgb_params_ho = {\n",
    "            \"objective\": \"multi:softprob\",\n",
    "            \"num_class\": 7,\n",
    "            \"eta\": 0.005,\n",
    "            \"num_rounds\": 10000,\n",
    "            \"max_depth\": args['max_depth'],\n",
    "            \"min_child_weight\": args['min_child_weight'],\n",
    "            \"gamma\": args['gamma'],\n",
    "            \"subsample\": 0.7,\n",
    "            \"colsample_bytree\": 0.7,\n",
    "            \"scale_pos_weight\": 1,\n",
    "            \"silent\": 2\n",
    "        }\n",
    "\n",
    "        est = make_pipeline(\n",
    "            transf2,\n",
    "            XGBoostClassifier(**xgb_params_ho),\n",
    "        )\n",
    "\n",
    "        scores = cross_val_score(\n",
    "            estimator=est,\n",
    "            X=features,\n",
    "            y=target,\n",
    "            cv=3,\n",
    "            n_jobs=-1,\n",
    "            verbose=1)\n",
    "\n",
    "        return scores.mean()\n",
    "\n",
    "    space = {\n",
    "        'max_depth': hpo.hp.quniform('max_depth', 5, 20, 1),\n",
    "        'min_child_weight': hpo.hp.quniform('min_child_weight', 1, 20, 1),\n",
    "        'gamma': hpo.hp.quniform('gamma', 0, 10, 1)\n",
    "    }\n",
    "\n",
    "\n",
    "    best = hpo.fmin(hyperparam_objective, space, algo=hpo.tpe.suggest, max_evals=100)\n",
    "    print(best)"
   ]
  },
  {
   "cell_type": "code",
   "execution_count": 5,
   "metadata": {
    "collapsed": true
   },
   "outputs": [],
   "source": [
    "def eval_accuracy(preds, dtrain):\n",
    "    labels = dtrain.get_label()\n",
    "    idx = np.argmax(preds, axis=1)\n",
    "    res = accuracy_score(labels, idx)\n",
    "    return 'accuracy', -res"
   ]
  },
  {
   "cell_type": "code",
   "execution_count": 6,
   "metadata": {
    "collapsed": true
   },
   "outputs": [],
   "source": [
    "transf2 = make_pipeline(\n",
    "    high_cardinality_zeroing(49),\n",
    "    df2dict(),\n",
    "    DictVectorizer(sparse=False),\n",
    "    Imputer(strategy='median'),\n",
    ")"
   ]
  },
  {
   "cell_type": "code",
   "execution_count": 7,
   "metadata": {
    "collapsed": true
   },
   "outputs": [],
   "source": [
    "transf3 = make_pipeline(\n",
    "    count_encoder(),\n",
    "    Imputer(strategy='median'),\n",
    ")"
   ]
  },
  {
   "cell_type": "code",
   "execution_count": 8,
   "metadata": {
    "collapsed": true
   },
   "outputs": [],
   "source": [
    "transf4 = make_pipeline(\n",
    "    high_cardinality_zeroing(top=20),\n",
    "    multi_class_target_share_encoder(size_threshold=1),\n",
    "    Imputer(strategy='median'),\n",
    ")"
   ]
  },
  {
   "cell_type": "code",
   "execution_count": 9,
   "metadata": {
    "collapsed": true
   },
   "outputs": [],
   "source": [
    "transf5 = make_pipeline(\n",
    "    multi_class_target_share_encoder(size_threshold=100),\n",
    "    Imputer(strategy='median'),\n",
    ")"
   ]
  },
  {
   "cell_type": "code",
   "execution_count": 47,
   "metadata": {
    "collapsed": true
   },
   "outputs": [],
   "source": [
    "transf6 = make_pipeline(\n",
    "    empyrical_bayes_encoder(),\n",
    "    Imputer(strategy='median'),\n",
    ")"
   ]
  },
  {
   "cell_type": "code",
   "execution_count": 48,
   "metadata": {
    "collapsed": true
   },
   "outputs": [],
   "source": [
    "xgb_params2 = {\n",
    "    \"objective\": \"multi:softprob\",\n",
    "    \"num_class\": 7,\n",
    "    \"eta\": 0.001,\n",
    "    \"num_rounds\": 10000,\n",
    "    \"max_depth\": 9,\n",
    "    \"min_child_weight\": 6,\n",
    "    \"gamma\": 0,\n",
    "    \"subsample\": 0.7,\n",
    "    \"colsample_bytree\": 0.7,\n",
    "    \"scale_pos_weight\": 1,\n",
    "    \"silent\": 0,\n",
    "    \"verbose\": 10,\n",
    "    \"eval_func\": eval_accuracy,\n",
    "}"
   ]
  },
  {
   "cell_type": "code",
   "execution_count": 50,
   "metadata": {
    "collapsed": true
   },
   "outputs": [],
   "source": [
    "# mean: 0.753299206752, std: 0.00461122957968\n",
    "est2 = transf2, XGBoostClassifier(**xgb_params2)"
   ]
  },
  {
   "cell_type": "code",
   "execution_count": 51,
   "metadata": {
    "collapsed": true
   },
   "outputs": [],
   "source": [
    "# mean: 0.751939373068, std: 0.00569865718706\n",
    "est3 = transf3, XGBoostClassifier(**xgb_params2)"
   ]
  },
  {
   "cell_type": "code",
   "execution_count": 52,
   "metadata": {
    "collapsed": true
   },
   "outputs": [],
   "source": [
    "# mean: 0.753899536611, std: 0.0042606233231\n",
    "est4 = make_pipeline(transf4, XGBoostClassifier(**xgb_params2))"
   ]
  },
  {
   "cell_type": "code",
   "execution_count": 54,
   "metadata": {
    "collapsed": true
   },
   "outputs": [],
   "source": [
    "# mean: 0.7407190861094108, std: 0.006672093040968181\n",
    "est6 = make_pipeline(transf5, XGBoostClassifier(**xgb_params2))"
   ]
  },
  {
   "cell_type": "code",
   "execution_count": 55,
   "metadata": {
    "collapsed": true
   },
   "outputs": [],
   "source": [
    "# mean: 0.753339450035363, std: 0.005114320275556508\n",
    "est7 = make_pipeline(transf6, XGBoostClassifier(**xgb_params2))"
   ]
  },
  {
   "cell_type": "code",
   "execution_count": null,
   "metadata": {
    "collapsed": true
   },
   "outputs": [],
   "source": []
  }
 ],
 "metadata": {
  "kernelspec": {
   "display_name": "Python 3",
   "language": "python",
   "name": "python3"
  },
  "language_info": {
   "codemirror_mode": {
    "name": "ipython",
    "version": 3
   },
   "file_extension": ".py",
   "mimetype": "text/x-python",
   "name": "python",
   "nbconvert_exporter": "python",
   "pygments_lexer": "ipython3",
   "version": "3.6.1"
  }
 },
 "nbformat": 4,
 "nbformat_minor": 1
}
